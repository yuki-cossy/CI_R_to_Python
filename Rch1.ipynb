{
 "cells": [
  {
   "cell_type": "markdown",
   "metadata": {},
   "source": [
    "Rをまず起動できるようにする"
   ]
  },
  {
   "cell_type": "code",
   "execution_count": 14,
   "metadata": {
    "vscode": {
     "languageId": "r"
    }
   },
   "outputs": [
    {
     "name": "stdout",
     "output_type": "stream",
     "text": [
      "\n",
      "The downloaded binary packages are in\n",
      "\t/var/folders/2l/4g5bjb55503d7ytcwc5bl8wh0000gn/T//Rtmp8TnGQd/downloaded_packages\n"
     ]
    }
   ],
   "source": [
    "install.packages('IRkernel')\n",
    "IRkernel::installspec()"
   ]
  },
  {
   "cell_type": "markdown",
   "metadata": {},
   "source": [
    "# 1.9.3\n",
    "データの入力方法"
   ]
  },
  {
   "cell_type": "markdown",
   "metadata": {},
   "source": [
    "表1.2"
   ]
  },
  {
   "cell_type": "code",
   "execution_count": 15,
   "metadata": {
    "vscode": {
     "languageId": "r"
    }
   },
   "outputs": [
    {
     "data": {
      "text/html": [
       "<table class=\"dataframe\">\n",
       "<caption>A data.frame: 5 × 2</caption>\n",
       "<thead>\n",
       "\t<tr><th scope=col>x1</th><th scope=col>y1</th></tr>\n",
       "\t<tr><th scope=col>&lt;dbl&gt;</th><th scope=col>&lt;dbl&gt;</th></tr>\n",
       "</thead>\n",
       "<tbody>\n",
       "\t<tr><td>63</td><td>63</td></tr>\n",
       "\t<tr><td>56</td><td>66</td></tr>\n",
       "\t<tr><td>51</td><td>61</td></tr>\n",
       "\t<tr><td>50</td><td>60</td></tr>\n",
       "\t<tr><td>42</td><td>52</td></tr>\n",
       "</tbody>\n",
       "</table>\n"
      ],
      "text/latex": [
       "A data.frame: 5 × 2\n",
       "\\begin{tabular}{ll}\n",
       " x1 & y1\\\\\n",
       " <dbl> & <dbl>\\\\\n",
       "\\hline\n",
       "\t 63 & 63\\\\\n",
       "\t 56 & 66\\\\\n",
       "\t 51 & 61\\\\\n",
       "\t 50 & 60\\\\\n",
       "\t 42 & 52\\\\\n",
       "\\end{tabular}\n"
      ],
      "text/markdown": [
       "\n",
       "A data.frame: 5 × 2\n",
       "\n",
       "| x1 &lt;dbl&gt; | y1 &lt;dbl&gt; |\n",
       "|---|---|\n",
       "| 63 | 63 |\n",
       "| 56 | 66 |\n",
       "| 51 | 61 |\n",
       "| 50 | 60 |\n",
       "| 42 | 52 |\n",
       "\n"
      ],
      "text/plain": [
       "  x1 y1\n",
       "1 63 63\n",
       "2 56 66\n",
       "3 51 61\n",
       "4 50 60\n",
       "5 42 52"
      ]
     },
     "metadata": {},
     "output_type": "display_data"
    }
   ],
   "source": [
    "x1 <- c(63,56,51,50,42)\n",
    "y1 <- c(63,66,61,60,52)\n",
    "df1 <- data.frame(x1,y1)\n",
    "df1"
   ]
  },
  {
   "cell_type": "code",
   "execution_count": 16,
   "metadata": {
    "vscode": {
     "languageId": "r"
    }
   },
   "outputs": [
    {
     "data": {
      "text/html": [
       "52.4"
      ],
      "text/latex": [
       "52.4"
      ],
      "text/markdown": [
       "52.4"
      ],
      "text/plain": [
       "[1] 52.4"
      ]
     },
     "metadata": {},
     "output_type": "display_data"
    },
    {
     "ename": "ERROR",
     "evalue": "Error in mean.default(x1 = c(63, 56, 51, 50, 42)): argument \"x\" is missing, with no default\n",
     "output_type": "error",
     "traceback": [
      "Error in mean.default(x1 = c(63, 56, 51, 50, 42)): argument \"x\" is missing, with no default\nTraceback:\n",
      "1. mean(x1 = c(63, 56, 51, 50, 42))",
      "2. mean.default(x1 = c(63, 56, 51, 50, 42))"
     ]
    }
   ],
   "source": [
    "#<-と＝の違い\n",
    "mean(x1 <- c(63,56,51,50,42))\n",
    "mean(x1 = c(63,56,51,50,42)) #エラーが出る"
   ]
  },
  {
   "cell_type": "markdown",
   "metadata": {},
   "source": [
    "表1.3"
   ]
  },
  {
   "cell_type": "code",
   "execution_count": 17,
   "metadata": {
    "vscode": {
     "languageId": "r"
    }
   },
   "outputs": [],
   "source": [
    "rm(list = ls())\n",
    "#rm(list <- ls()) #エラー。これは違うらしい\n",
    "#data01 <- read.csv(file.choose()) \n",
    "#VSCode上だと普通にパスを求められる.\n",
    "#あと、jupyter notebookだと上手く行かないみたい"
   ]
  },
  {
   "cell_type": "code",
   "execution_count": 18,
   "metadata": {
    "vscode": {
     "languageId": "r"
    }
   },
   "outputs": [
    {
     "name": "stdout",
     "output_type": "stream",
     "text": [
      "\n",
      "The downloaded binary packages are in\n",
      "\t/var/folders/2l/4g5bjb55503d7ytcwc5bl8wh0000gn/T//Rtmp8TnGQd/downloaded_packages\n"
     ]
    },
    {
     "name": "stderr",
     "output_type": "stream",
     "text": [
      "\u001b[1mRows: \u001b[22m\u001b[34m5\u001b[39m \u001b[1mColumns: \u001b[22m\u001b[34m2\u001b[39m\n",
      "\u001b[36m--\u001b[39m \u001b[1mColumn specification\u001b[22m \u001b[36m--------------------------------------------------------\u001b[39m\n",
      "\u001b[1mDelimiter:\u001b[22m \",\"\n",
      "\u001b[32mdbl\u001b[39m (2): x1, y1\n",
      "\n",
      "\u001b[36mi\u001b[39m Use `spec()` to retrieve the full column specification for this data.\n",
      "\u001b[36mi\u001b[39m Specify the column types or set `show_col_types = FALSE` to quiet this message.\n"
     ]
    }
   ],
   "source": [
    "#readrのread_csvもある\n",
    "#以下引用\n",
    "#read.csv()で読み込まれた表は data.frame クラスに、read_csv()関数で読み込まれた表は tibble クラスとして保存される。\n",
    "#宋, 矢内(2022). 私たちのR: ベストプラクティスの探究.\n",
    "#https://www.jaysong.net/RBook/io.html#fn31\n",
    "install.packages('tidyverse')\n",
    "library('tidyverse')\n",
    "data01 <- read_csv(\"./causality-main/data01.csv\")\n"
   ]
  },
  {
   "cell_type": "code",
   "execution_count": 19,
   "metadata": {
    "vscode": {
     "languageId": "r"
    }
   },
   "outputs": [
    {
     "data": {
      "text/html": [
       "<table class=\"dataframe\">\n",
       "<caption>A tibble: 5 × 2</caption>\n",
       "<thead>\n",
       "\t<tr><th scope=col>x1</th><th scope=col>y1</th></tr>\n",
       "\t<tr><th scope=col>&lt;dbl&gt;</th><th scope=col>&lt;dbl&gt;</th></tr>\n",
       "</thead>\n",
       "<tbody>\n",
       "\t<tr><td>63</td><td>63</td></tr>\n",
       "\t<tr><td>56</td><td>66</td></tr>\n",
       "\t<tr><td>51</td><td>61</td></tr>\n",
       "\t<tr><td>50</td><td>60</td></tr>\n",
       "\t<tr><td>42</td><td>52</td></tr>\n",
       "</tbody>\n",
       "</table>\n"
      ],
      "text/latex": [
       "A tibble: 5 × 2\n",
       "\\begin{tabular}{ll}\n",
       " x1 & y1\\\\\n",
       " <dbl> & <dbl>\\\\\n",
       "\\hline\n",
       "\t 63 & 63\\\\\n",
       "\t 56 & 66\\\\\n",
       "\t 51 & 61\\\\\n",
       "\t 50 & 60\\\\\n",
       "\t 42 & 52\\\\\n",
       "\\end{tabular}\n"
      ],
      "text/markdown": [
       "\n",
       "A tibble: 5 × 2\n",
       "\n",
       "| x1 &lt;dbl&gt; | y1 &lt;dbl&gt; |\n",
       "|---|---|\n",
       "| 63 | 63 |\n",
       "| 56 | 66 |\n",
       "| 51 | 61 |\n",
       "| 50 | 60 |\n",
       "| 42 | 52 |\n",
       "\n"
      ],
      "text/plain": [
       "  x1 y1\n",
       "1 63 63\n",
       "2 56 66\n",
       "3 51 61\n",
       "4 50 60\n",
       "5 42 52"
      ]
     },
     "metadata": {},
     "output_type": "display_data"
    }
   ],
   "source": [
    "#以下を入力.どうやら以下はクォート無しで良いみたい.\n",
    "#./causality-main/data01.csv\n",
    "head(data01)"
   ]
  },
  {
   "cell_type": "code",
   "execution_count": 20,
   "metadata": {
    "vscode": {
     "languageId": "r"
    }
   },
   "outputs": [
    {
     "data": {
      "text/plain": [
       "       x1             y1      \n",
       " Min.   :42.0   Min.   :52.0  \n",
       " 1st Qu.:50.0   1st Qu.:60.0  \n",
       " Median :51.0   Median :61.0  \n",
       " Mean   :52.4   Mean   :60.4  \n",
       " 3rd Qu.:56.0   3rd Qu.:63.0  \n",
       " Max.   :63.0   Max.   :66.0  "
      ]
     },
     "metadata": {},
     "output_type": "display_data"
    }
   ],
   "source": [
    "summary(data01)"
   ]
  },
  {
   "cell_type": "markdown",
   "metadata": {},
   "source": [
    "# 1.9.4"
   ]
  },
  {
   "cell_type": "code",
   "execution_count": 21,
   "metadata": {
    "vscode": {
     "languageId": "r"
    }
   },
   "outputs": [
    {
     "data": {
      "text/html": [
       "<table class=\"dataframe\">\n",
       "<caption>A tibble: 1 × 2</caption>\n",
       "<thead>\n",
       "\t<tr><th scope=col>x1</th><th scope=col>y1</th></tr>\n",
       "\t<tr><th scope=col>&lt;dbl&gt;</th><th scope=col>&lt;dbl&gt;</th></tr>\n",
       "</thead>\n",
       "<tbody>\n",
       "\t<tr><td>51</td><td>61</td></tr>\n",
       "</tbody>\n",
       "</table>\n"
      ],
      "text/latex": [
       "A tibble: 1 × 2\n",
       "\\begin{tabular}{ll}\n",
       " x1 & y1\\\\\n",
       " <dbl> & <dbl>\\\\\n",
       "\\hline\n",
       "\t 51 & 61\\\\\n",
       "\\end{tabular}\n"
      ],
      "text/markdown": [
       "\n",
       "A tibble: 1 × 2\n",
       "\n",
       "| x1 &lt;dbl&gt; | y1 &lt;dbl&gt; |\n",
       "|---|---|\n",
       "| 51 | 61 |\n",
       "\n"
      ],
      "text/plain": [
       "  x1 y1\n",
       "1 51 61"
      ]
     },
     "metadata": {},
     "output_type": "display_data"
    }
   ],
   "source": [
    "#for loop\n",
    "data01[3,]\n",
    "\"\"\"\n",
    "data01[3,:] \n",
    "これはエラーになる\n",
    "\"\"\""
   ]
  },
  {
   "cell_type": "code",
   "execution_count": 23,
   "metadata": {
    "vscode": {
     "languageId": "r"
    }
   },
   "outputs": [
    {
     "data": {
      "text/html": [
       "<table class=\"dataframe\">\n",
       "<caption>A tibble: 5 × 1</caption>\n",
       "<thead>\n",
       "\t<tr><th scope=col>y1</th></tr>\n",
       "\t<tr><th scope=col>&lt;dbl&gt;</th></tr>\n",
       "</thead>\n",
       "<tbody>\n",
       "\t<tr><td>63</td></tr>\n",
       "\t<tr><td>66</td></tr>\n",
       "\t<tr><td>61</td></tr>\n",
       "\t<tr><td>60</td></tr>\n",
       "\t<tr><td>52</td></tr>\n",
       "</tbody>\n",
       "</table>\n"
      ],
      "text/latex": [
       "A tibble: 5 × 1\n",
       "\\begin{tabular}{l}\n",
       " y1\\\\\n",
       " <dbl>\\\\\n",
       "\\hline\n",
       "\t 63\\\\\n",
       "\t 66\\\\\n",
       "\t 61\\\\\n",
       "\t 60\\\\\n",
       "\t 52\\\\\n",
       "\\end{tabular}\n"
      ],
      "text/markdown": [
       "\n",
       "A tibble: 5 × 1\n",
       "\n",
       "| y1 &lt;dbl&gt; |\n",
       "|---|\n",
       "| 63 |\n",
       "| 66 |\n",
       "| 61 |\n",
       "| 60 |\n",
       "| 52 |\n",
       "\n"
      ],
      "text/plain": [
       "  y1\n",
       "1 63\n",
       "2 66\n",
       "3 61\n",
       "4 60\n",
       "5 52"
      ]
     },
     "metadata": {},
     "output_type": "display_data"
    },
    {
     "data": {
      "text/html": [
       "<table class=\"dataframe\">\n",
       "<caption>A tibble: 5 × 1</caption>\n",
       "<thead>\n",
       "\t<tr><th scope=col>y1</th></tr>\n",
       "\t<tr><th scope=col>&lt;dbl&gt;</th></tr>\n",
       "</thead>\n",
       "<tbody>\n",
       "\t<tr><td>63</td></tr>\n",
       "\t<tr><td>66</td></tr>\n",
       "\t<tr><td>61</td></tr>\n",
       "\t<tr><td>60</td></tr>\n",
       "\t<tr><td>52</td></tr>\n",
       "</tbody>\n",
       "</table>\n"
      ],
      "text/latex": [
       "A tibble: 5 × 1\n",
       "\\begin{tabular}{l}\n",
       " y1\\\\\n",
       " <dbl>\\\\\n",
       "\\hline\n",
       "\t 63\\\\\n",
       "\t 66\\\\\n",
       "\t 61\\\\\n",
       "\t 60\\\\\n",
       "\t 52\\\\\n",
       "\\end{tabular}\n"
      ],
      "text/markdown": [
       "\n",
       "A tibble: 5 × 1\n",
       "\n",
       "| y1 &lt;dbl&gt; |\n",
       "|---|\n",
       "| 63 |\n",
       "| 66 |\n",
       "| 61 |\n",
       "| 60 |\n",
       "| 52 |\n",
       "\n"
      ],
      "text/plain": [
       "  y1\n",
       "1 63\n",
       "2 66\n",
       "3 61\n",
       "4 60\n",
       "5 52"
      ]
     },
     "metadata": {},
     "output_type": "display_data"
    },
    {
     "data": {
      "text/html": [
       "<table class=\"dataframe\">\n",
       "<caption>A tibble: 1 × 1</caption>\n",
       "<thead>\n",
       "\t<tr><th scope=col>y1</th></tr>\n",
       "\t<tr><th scope=col>&lt;dbl&gt;</th></tr>\n",
       "</thead>\n",
       "<tbody>\n",
       "\t<tr><td>61</td></tr>\n",
       "</tbody>\n",
       "</table>\n"
      ],
      "text/latex": [
       "A tibble: 1 × 1\n",
       "\\begin{tabular}{l}\n",
       " y1\\\\\n",
       " <dbl>\\\\\n",
       "\\hline\n",
       "\t 61\\\\\n",
       "\\end{tabular}\n"
      ],
      "text/markdown": [
       "\n",
       "A tibble: 1 × 1\n",
       "\n",
       "| y1 &lt;dbl&gt; |\n",
       "|---|\n",
       "| 61 |\n",
       "\n"
      ],
      "text/plain": [
       "  y1\n",
       "1 61"
      ]
     },
     "metadata": {},
     "output_type": "display_data"
    }
   ],
   "source": [
    "data01[,2]\n",
    "data01[1:length(as.data.frame(data01)[,2]),2] #これはエラーにならない\n",
    "data01[3,2]"
   ]
  },
  {
   "cell_type": "code",
   "execution_count": 24,
   "metadata": {
    "vscode": {
     "languageId": "r"
    }
   },
   "outputs": [
    {
     "data": {
      "text/html": [
       "52.4"
      ],
      "text/latex": [
       "52.4"
      ],
      "text/markdown": [
       "52.4"
      ],
      "text/plain": [
       "[1] 52.4"
      ]
     },
     "metadata": {},
     "output_type": "display_data"
    },
    {
     "data": {
      "text/html": [
       "7.76530746332687"
      ],
      "text/latex": [
       "7.76530746332687"
      ],
      "text/markdown": [
       "7.76530746332687"
      ],
      "text/plain": [
       "[1] 7.765307"
      ]
     },
     "metadata": {},
     "output_type": "display_data"
    }
   ],
   "source": [
    "mean(data01$x1)\n",
    "sd(data01$x1) #default ddof=1"
   ]
  },
  {
   "cell_type": "code",
   "execution_count": 25,
   "metadata": {
    "vscode": {
     "languageId": "r"
    }
   },
   "outputs": [
    {
     "data": {
      "text/html": [
       "60.4"
      ],
      "text/latex": [
       "60.4"
      ],
      "text/markdown": [
       "60.4"
      ],
      "text/plain": [
       "[1] 60.4"
      ]
     },
     "metadata": {},
     "output_type": "display_data"
    },
    {
     "data": {
      "text/html": [
       "5.22494019104525"
      ],
      "text/latex": [
       "5.22494019104525"
      ],
      "text/markdown": [
       "5.22494019104525"
      ],
      "text/plain": [
       "[1] 5.22494"
      ]
     },
     "metadata": {},
     "output_type": "display_data"
    }
   ],
   "source": [
    "mean(data01$y1)\n",
    "sd(data01$y1) #default ddof=1"
   ]
  },
  {
   "cell_type": "code",
   "execution_count": 27,
   "metadata": {
    "vscode": {
     "languageId": "r"
    }
   },
   "outputs": [
    {
     "name": "stderr",
     "output_type": "stream",
     "text": [
      "Warning message in mean.default(data01[, 1]):\n",
      "\"argument is not numeric or logical: returning NA\"\n"
     ]
    },
    {
     "data": {
      "text/html": [
       "&lt;NA&gt;"
      ],
      "text/latex": [
       "<NA>"
      ],
      "text/markdown": [
       "&lt;NA&gt;"
      ],
      "text/plain": [
       "[1] NA"
      ]
     },
     "metadata": {},
     "output_type": "display_data"
    },
    {
     "data": {
      "text/html": [
       "52.4"
      ],
      "text/latex": [
       "52.4"
      ],
      "text/markdown": [
       "52.4"
      ],
      "text/plain": [
       "[1] 52.4"
      ]
     },
     "metadata": {},
     "output_type": "display_data"
    },
    {
     "data": {
      "text/html": [
       "52.4"
      ],
      "text/latex": [
       "52.4"
      ],
      "text/markdown": [
       "52.4"
      ],
      "text/plain": [
       "[1] 52.4"
      ]
     },
     "metadata": {},
     "output_type": "display_data"
    }
   ],
   "source": [
    "#read.csvとread_csvの違い\n",
    "mean(data01[,1]) #NAになる. #理由は多分tibbleクラス(list)で格納されているため.\n",
    "#read.csvで保存すればdf[,1]でも変数の指定が可能\n",
    "data001 <- read.csv(\"./causality-main/data01.csv\")\n",
    "mean(data001[,1]) \n",
    "#もしくは直接変数の型を変更すれば良い\n",
    "mean(as.data.frame(data01)[,1])"
   ]
  },
  {
   "cell_type": "code",
   "execution_count": 28,
   "metadata": {
    "vscode": {
     "languageId": "r"
    }
   },
   "outputs": [
    {
     "data": {
      "text/html": [
       "<table class=\"dataframe\">\n",
       "<caption>A matrix: 2 × 2 of type dbl</caption>\n",
       "<tbody>\n",
       "\t<tr><td>52.4</td><td>7.765307</td></tr>\n",
       "\t<tr><td>60.4</td><td>5.224940</td></tr>\n",
       "</tbody>\n",
       "</table>\n"
      ],
      "text/latex": [
       "A matrix: 2 × 2 of type dbl\n",
       "\\begin{tabular}{ll}\n",
       "\t 52.4 & 7.765307\\\\\n",
       "\t 60.4 & 5.224940\\\\\n",
       "\\end{tabular}\n"
      ],
      "text/markdown": [
       "\n",
       "A matrix: 2 × 2 of type dbl\n",
       "\n",
       "| 52.4 | 7.765307 |\n",
       "| 60.4 | 5.224940 |\n",
       "\n"
      ],
      "text/plain": [
       "     [,1] [,2]    \n",
       "[1,] 52.4 7.765307\n",
       "[2,] 60.4 5.224940"
      ]
     },
     "metadata": {},
     "output_type": "display_data"
    }
   ],
   "source": [
    "output <- matrix(NA,2,2)\n",
    "for(j in 1:2){ #forの後の#ofloopは()で囲わないといけない\n",
    "    output[j,1] <- mean(data001[,j])\n",
    "    output[j,2] <- sd(data001[,j])\n",
    "}\n",
    "output"
   ]
  },
  {
   "cell_type": "code",
   "execution_count": 6,
   "metadata": {
    "vscode": {
     "languageId": "r"
    }
   },
   "outputs": [
    {
     "ename": "ERROR",
     "evalue": "Error in apply(data01, 2, mean): object 'data01' not found\n",
     "output_type": "error",
     "traceback": [
      "Error in apply(data01, 2, mean): object 'data01' not found\nTraceback:\n",
      "1. apply(data01, 2, mean)"
     ]
    }
   ],
   "source": [
    "#for loopの代わりにapplyも使える\n",
    "apply(data01,2,mean) #ここでは普通にtibble型の変数でも使える\n",
    "apply(data01,2,sd)"
   ]
  }
 ],
 "metadata": {
  "kernelspec": {
   "display_name": "R",
   "language": "R",
   "name": "ir"
  },
  "language_info": {
   "codemirror_mode": "r",
   "file_extension": ".r",
   "mimetype": "text/x-r-source",
   "name": "R",
   "pygments_lexer": "r",
   "version": "4.2.0"
  },
  "orig_nbformat": 4
 },
 "nbformat": 4,
 "nbformat_minor": 2
}
